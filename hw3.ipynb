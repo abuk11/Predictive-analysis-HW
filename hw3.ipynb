{
  "nbformat": 4,
  "nbformat_minor": 0,
  "metadata": {
    "colab": {
      "provenance": []
    },
    "kernelspec": {
      "name": "python3",
      "display_name": "Python 3"
    },
    "language_info": {
      "name": "python"
    }
  },
  "cells": [
    {
      "cell_type": "code",
      "source": [
        "import numpy as np\n",
        "import pandas as pd\n",
        "import matplotlib.pyplot as plt\n",
        "from sklearn.neighbors import LocalOutlierFactor\n",
        "from sklearn.ensemble import IsolationForest\n",
        "from sklearn.metrics import f1_score, precision_score, recall_score\n",
        "import torch\n",
        "import torch.nn as nn\n",
        "import torch.optim as optim\n",
        "import glob\n",
        "import os\n",
        "from IPython.display import clear_output\n",
        "import requests\n",
        "\n",
        "# Для оценки без меток\n",
        "from sklearn.metrics import silhouette_score\n",
        "from sklearn.preprocessing import MinMaxScaler\n",
        "from sklearn.linear_model import LogisticRegression"
      ],
      "metadata": {
        "id": "Cpp4OqkOHG1f"
      },
      "execution_count": null,
      "outputs": []
    },
    {
      "cell_type": "markdown",
      "source": [
        "# 1. Загрузка данных"
      ],
      "metadata": {
        "id": "1wrhUEIAIid-"
      }
    },
    {
      "cell_type": "code",
      "source": [
        "# Загрузка данных из репозитория\n",
        "data_folder_url = \"https://github.com/waico/SKAB/raw/master/data/valve1/\"\n",
        "data_folder_path = \"data/valve1/\"\n",
        "\n",
        "if not os.path.exists(data_folder_path):\n",
        "    os.makedirs(data_folder_path, exist_ok=True)\n",
        "    for i in range(1, 11):  # Загрузка нескольких файлов\n",
        "        file_name = f\"{i}.csv\"\n",
        "        response = requests.get(data_folder_url + file_name)\n",
        "        with open(data_folder_path + file_name, \"wb\") as f:\n",
        "            f.write(response.content)\n",
        "\n",
        "# Чтение и объединение всех CSV файлов\n",
        "csv_files = glob.glob(data_folder_path + \"*.csv\")\n",
        "data_frames = [pd.read_csv(file, delimiter=';') for file in csv_files]\n",
        "data = pd.concat(data_frames, ignore_index=True)"
      ],
      "metadata": {
        "id": "EoTtHqc0HNSy"
      },
      "execution_count": null,
      "outputs": []
    },
    {
      "cell_type": "code",
      "source": [
        "data.info()"
      ],
      "metadata": {
        "colab": {
          "base_uri": "https://localhost:8080/"
        },
        "id": "Us8YPTrpISJH",
        "outputId": "164c5ab2-7a00-4017-c7e9-32f1f3523f2e"
      },
      "execution_count": null,
      "outputs": [
        {
          "output_type": "stream",
          "name": "stdout",
          "text": [
            "<class 'pandas.core.frame.DataFrame'>\n",
            "RangeIndex: 11303 entries, 0 to 11302\n",
            "Data columns (total 11 columns):\n",
            " #   Column               Non-Null Count  Dtype  \n",
            "---  ------               --------------  -----  \n",
            " 0   datetime             11303 non-null  object \n",
            " 1   Accelerometer1RMS    11303 non-null  float64\n",
            " 2   Accelerometer2RMS    11303 non-null  float64\n",
            " 3   Current              11303 non-null  float64\n",
            " 4   Pressure             11303 non-null  float64\n",
            " 5   Temperature          11303 non-null  float64\n",
            " 6   Thermocouple         11303 non-null  float64\n",
            " 7   Voltage              11303 non-null  float64\n",
            " 8   Volume Flow RateRMS  11303 non-null  float64\n",
            " 9   anomaly              11303 non-null  float64\n",
            " 10  changepoint          11303 non-null  float64\n",
            "dtypes: float64(10), object(1)\n",
            "memory usage: 971.5+ KB\n"
          ]
        }
      ]
    },
    {
      "cell_type": "code",
      "source": [
        "data['datetime'] = pd.to_datetime(data['datetime'])"
      ],
      "metadata": {
        "id": "0rXOCNxPIu5u"
      },
      "execution_count": null,
      "outputs": []
    },
    {
      "cell_type": "code",
      "source": [
        "data.index = data['datetime']\n",
        "data.drop(columns=['datetime'], inplace=True)"
      ],
      "metadata": {
        "id": "BuzkpgIkJY4J"
      },
      "execution_count": null,
      "outputs": []
    },
    {
      "cell_type": "code",
      "source": [
        "data.info()"
      ],
      "metadata": {
        "colab": {
          "base_uri": "https://localhost:8080/"
        },
        "id": "7MtCmxToJiln",
        "outputId": "a8171435-f595-432a-e554-34292c9b51b7"
      },
      "execution_count": null,
      "outputs": [
        {
          "output_type": "stream",
          "name": "stdout",
          "text": [
            "<class 'pandas.core.frame.DataFrame'>\n",
            "DatetimeIndex: 11303 entries, 2020-03-09 12:54:39 to 2020-03-09 13:54:38\n",
            "Data columns (total 10 columns):\n",
            " #   Column               Non-Null Count  Dtype  \n",
            "---  ------               --------------  -----  \n",
            " 0   Accelerometer1RMS    11303 non-null  float64\n",
            " 1   Accelerometer2RMS    11303 non-null  float64\n",
            " 2   Current              11303 non-null  float64\n",
            " 3   Pressure             11303 non-null  float64\n",
            " 4   Temperature          11303 non-null  float64\n",
            " 5   Thermocouple         11303 non-null  float64\n",
            " 6   Voltage              11303 non-null  float64\n",
            " 7   Volume Flow RateRMS  11303 non-null  float64\n",
            " 8   anomaly              11303 non-null  float64\n",
            " 9   changepoint          11303 non-null  float64\n",
            "dtypes: float64(10)\n",
            "memory usage: 971.4 KB\n"
          ]
        }
      ]
    },
    {
      "cell_type": "code",
      "source": [
        "values = data.drop(columns=['anomaly'])\n",
        "target = data['anomaly'].values if 'anomaly' in data.columns else None"
      ],
      "metadata": {
        "id": "IsHPtcVJIh8N"
      },
      "execution_count": null,
      "outputs": []
    },
    {
      "cell_type": "code",
      "source": [
        "# Разделение данных на train/test\n",
        "train_size = int(0.8 * len(values))\n",
        "train_values = values[:train_size]\n",
        "test_values = values[train_size:]\n",
        "\n",
        "if target is not None:\n",
        "    train_target = target[:train_size]\n",
        "    test_target = target[train_size:]\n",
        "else:\n",
        "    train_target, test_target = None, None\n"
      ],
      "metadata": {
        "id": "Gael1NRne14o"
      },
      "execution_count": null,
      "outputs": []
    },
    {
      "cell_type": "markdown",
      "source": [
        "У нас есть таргеты, т.е. рассматриваем supervised задачу."
      ],
      "metadata": {
        "id": "_VLQ7iwJe_oS"
      }
    },
    {
      "cell_type": "markdown",
      "source": [
        "# 2. Proximity-based методы,"
      ],
      "metadata": {
        "id": "wb4izBL0Ik1S"
      }
    },
    {
      "cell_type": "code",
      "source": [
        "lof = LocalOutlierFactor(n_neighbors=20, contamination=0.05)\n",
        "pred_lof = lof.fit_predict(train_values)\n",
        "pred_lof_test = lof.fit_predict(test_values)\n",
        "pred_lof_test = (pred_lof_test == -1).astype(int)"
      ],
      "metadata": {
        "id": "RazI13niJyl7"
      },
      "execution_count": null,
      "outputs": []
    },
    {
      "cell_type": "markdown",
      "source": [
        "# 3. Prediction-based: Линейная регрессия"
      ],
      "metadata": {
        "id": "5-QQFeDfJ5xc"
      }
    },
    {
      "cell_type": "code",
      "source": [
        "from sklearn.linear_model import LogisticRegression\n",
        "\n",
        "if train_target is not None:\n",
        "    logistic_model = LogisticRegression(max_iter=1000)\n",
        "    logistic_model.fit(train_values, train_target)\n",
        "    pred_lr = logistic_model.predict(test_values)\n",
        "else:\n",
        "    pred_lr = np.zeros(len(test_values))  # Если меток нет, используем заглушку"
      ],
      "metadata": {
        "id": "z_dPZl86KAj_"
      },
      "execution_count": null,
      "outputs": []
    },
    {
      "cell_type": "markdown",
      "source": [
        "# 4. Reconstruction-based"
      ],
      "metadata": {
        "id": "GI2xCx9kKD4M"
      }
    },
    {
      "cell_type": "code",
      "execution_count": null,
      "metadata": {
        "colab": {
          "base_uri": "https://localhost:8080/",
          "height": 487
        },
        "id": "0Drc9kdwF56_",
        "outputId": "da3a88e4-1499-407a-c760-972b00fad802"
      },
      "outputs": [
        {
          "output_type": "display_data",
          "data": {
            "text/plain": [
              "<Figure size 1000x500 with 1 Axes>"
            ],
            "image/png": "[encoded data removed]"
          },
          "metadata": {}
        }
      ],
      "source": [
        "class Autoencoder(nn.Module):\n",
        "    def __init__(self, input_dim):\n",
        "        super(Autoencoder, self).__init__()\n",
        "        self.encoder = nn.Sequential(\n",
        "            nn.Linear(input_dim, 16),\n",
        "            nn.ReLU(),\n",
        "            nn.Linear(16, 8),\n",
        "            nn.ReLU()\n",
        "        )\n",
        "        self.decoder = nn.Sequential(\n",
        "            nn.Linear(8, 16),\n",
        "            nn.ReLU(),\n",
        "            nn.Linear(16, input_dim),\n",
        "            nn.Sigmoid()\n",
        "        )\n",
        "\n",
        "    def forward(self, x):\n",
        "        encoded = self.encoder(x)\n",
        "        decoded = self.decoder(encoded)\n",
        "        return decoded\n",
        "\n",
        "# Нормализация данных\n",
        "from sklearn.preprocessing import MinMaxScaler\n",
        "scaler = MinMaxScaler()\n",
        "scaled_values = scaler.fit_transform(values)\n",
        "train_scaled = scaled_values[:train_size]\n",
        "test_scaled = scaled_values[train_size:]\n",
        "\n",
        "# Преобразование данных в тензоры\n",
        "train_tensor = torch.tensor(train_scaled, dtype=torch.float32)\n",
        "test_tensor = torch.tensor(test_scaled, dtype=torch.float32)\n",
        "\n",
        "# Инициализация автоэнкодера\n",
        "input_dim = scaled_values.shape[1]\n",
        "autoencoder = Autoencoder(input_dim)\n",
        "\n",
        "# Оптимизатор и функция потерь\n",
        "criterion = nn.MSELoss()\n",
        "optimizer = optim.Adam(autoencoder.parameters(), lr=0.001)\n",
        "\n",
        "# Обучение автоэнкодера\n",
        "num_epochs = 50\n",
        "batch_size = 32\n",
        "losses = []\n",
        "for epoch in range(num_epochs):\n",
        "    autoencoder.train()\n",
        "    epoch_loss = 0\n",
        "    for i in range(0, len(train_tensor), batch_size):\n",
        "        batch = train_tensor[i:i + batch_size]\n",
        "        optimizer.zero_grad()\n",
        "        outputs = autoencoder(batch)\n",
        "        loss = criterion(outputs, batch)\n",
        "        loss.backward()\n",
        "        optimizer.step()\n",
        "        epoch_loss += loss.item()\n",
        "    losses.append(epoch_loss / len(train_tensor))\n",
        "\n",
        "    # Обновление графика потерь\n",
        "    clear_output(wait=True)\n",
        "    plt.figure(figsize=(10, 5))\n",
        "    plt.plot(losses, label=\"Loss\")\n",
        "    plt.xlabel(\"Epoch\")\n",
        "    plt.ylabel(\"Loss\")\n",
        "    plt.title(\"Training Loss\")\n",
        "    plt.legend()\n",
        "    plt.show()\n",
        "\n",
        "# Ошибка реконструкции\n",
        "autoencoder.eval()\n",
        "with torch.no_grad():\n",
        "    reconstruction = autoencoder(test_tensor).numpy()\n",
        "\n",
        "mse = np.mean(np.square(test_scaled - reconstruction), axis=1)\n",
        "threshold_ae = np.percentile(mse, 95)\n",
        "pred_ae = (mse > threshold_ae).astype(int)"
      ]
    },
    {
      "cell_type": "markdown",
      "source": [
        "# 5. Рассчет метрик"
      ],
      "metadata": {
        "id": "etHhi58kKTrF"
      }
    },
    {
      "cell_type": "code",
      "source": [
        "# Расчет метрик\n",
        "if test_target is not None:\n",
        "    metrics = {}\n",
        "    for method, pred in zip([\"LOF\", \"Logistic Regression\", \"Autoencoder\"], [pred_lof_test, pred_lr, pred_ae]):\n",
        "        metrics[method] = {\n",
        "            \"F1\": f1_score(test_target, pred),\n",
        "            \"Precision\": precision_score(test_target, pred),\n",
        "            \"Recall\": recall_score(test_target, pred)\n",
        "        }\n",
        "\n",
        "    # Вывод метрик\n",
        "    for method, scores in metrics.items():\n",
        "        print(f\"Метрики для {method}: {scores}\")"
      ],
      "metadata": {
        "colab": {
          "base_uri": "https://localhost:8080/"
        },
        "id": "L0yT2pR1KTCp",
        "outputId": "56c72a3c-c60b-4d24-d741-0b72e1b7bdf4"
      },
      "execution_count": null,
      "outputs": [
        {
          "output_type": "stream",
          "name": "stdout",
          "text": [
            "Метрики для LOF: {'F1': 0.17156286721504113, 'Precision': 0.6460176991150443, 'Recall': 0.0989159891598916}\n",
            "Метрики для Logistic Regression: {'F1': 0.7762430939226519, 'Precision': 0.7915492957746478, 'Recall': 0.7615176151761518}\n",
            "Метрики для Autoencoder: {'F1': 0.18801410105757932, 'Precision': 0.7079646017699115, 'Recall': 0.10840108401084012}\n"
          ]
        }
      ]
    },
    {
      "cell_type": "markdown",
      "source": [
        "# 6. Оценка предсказаний модели в предположении, что релаьные значения таргета неизвестны."
      ],
      "metadata": {
        "id": "5GTxlh2DgfrD"
      }
    },
    {
      "cell_type": "code",
      "source": [
        "# Оценка качества моделей без использования таргета (без лейблов)\n",
        "# Для LOF у нас есть исходные скоры аномалий (negative_outlier_factor_)\n",
        "lof_full = LocalOutlierFactor(n_neighbors=20, contamination=0.05)\n",
        "lof_full.fit(values)\n",
        "lof_scores = -lof_full.negative_outlier_factor_[train_size:]  # чем больше, тем более аномально\n",
        "lof_anom_scores = lof_scores[pred_lof_test == 1]\n",
        "lof_norm_scores = lof_scores[pred_lof_test == 0]\n",
        "if len(lof_anom_scores) > 0 and len(lof_norm_scores) > 0:\n",
        "    lof_ratio = lof_anom_scores.mean() / lof_norm_scores.mean()\n",
        "    print(\"LOF среднее отношение аномального скора к нормальному (без меток):\", lof_ratio)\n",
        "    sil_lof = silhouette_score(test_values, pred_lof_test) if len(np.unique(pred_lof_test)) > 1 else np.nan\n",
        "    print(\"LOF Silhouette score (без меток):\", sil_lof)"
      ],
      "metadata": {
        "colab": {
          "base_uri": "https://localhost:8080/"
        },
        "id": "fTPCnL-hiKm6",
        "outputId": "aa286128-4fb3-4d94-b325-e7f48c17b8c7"
      },
      "execution_count": null,
      "outputs": [
        {
          "output_type": "stream",
          "name": "stdout",
          "text": [
            "LOF среднее отношение аномального скора к нормальному (без меток): 1.2993401453337114\n",
            "LOF Silhouette score (без меток): 0.0760208211583974\n"
          ]
        }
      ]
    },
    {
      "cell_type": "code",
      "source": [
        "# Для автоэнкодера используем ошибки реконструкции как скор\n",
        "ae_anom_scores = mse[pred_ae == 1]\n",
        "ae_norm_scores = mse[pred_ae == 0]\n",
        "if len(ae_anom_scores) > 0 and len(ae_norm_scores) > 0:\n",
        "    ae_ratio = ae_anom_scores.mean() / ae_norm_scores.mean()\n",
        "    print(\"AE среднее отношение ошибки реконструкции для аномалий к норме (без меток):\", ae_ratio)\n",
        "    sil_ae = silhouette_score(test_values, pred_ae) if len(np.unique(pred_ae)) > 1 else np.nan\n",
        "    print(\"AE Silhouette score (без меток):\", sil_ae)\n"
      ],
      "metadata": {
        "colab": {
          "base_uri": "https://localhost:8080/"
        },
        "id": "lQ4wn61_foQ3",
        "outputId": "0dfc4e6e-07c2-465a-944b-53ff33532490"
      },
      "execution_count": null,
      "outputs": [
        {
          "output_type": "stream",
          "name": "stdout",
          "text": [
            "AE среднее отношение ошибки реконструкции для аномалий к норме (без меток): 4.151329562059856\n",
            "AE Silhouette score (без меток): 0.040540088164813526\n"
          ]
        }
      ]
    },
    {
      "cell_type": "code",
      "source": [
        "# Для логистической регрессии без меток мы не можем посчитать F1 или др.\n",
        "# Однако можно оценить различие в распределении значений между предсказанными аномалиями и нормой\n",
        "lr_anom_values = test_values[pred_lr == 1]\n",
        "lr_norm_values = test_values[pred_lr == 0]\n",
        "if len(lr_anom_values) > 0 and len(lr_norm_values) > 0:\n",
        "    mean_diff_lr = lr_anom_values.mean() - lr_norm_values.mean()\n",
        "    print(\"LR средняя разница значений аномалия-норма (без меток):\", mean_diff_lr)\n",
        "    sil_lr = silhouette_score(test_values, pred_lr) if len(np.unique(pred_lr)) > 1 else np.nan\n",
        "    print(\"LR Silhouette score (без меток):\", sil_lr)"
      ],
      "metadata": {
        "colab": {
          "base_uri": "https://localhost:8080/"
        },
        "id": "HQsmoEsniZnB",
        "outputId": "b7fce78b-962b-4adb-eac8-5179895456f3"
      },
      "execution_count": null,
      "outputs": [
        {
          "output_type": "stream",
          "name": "stdout",
          "text": [
            "LR средняя разница значений аномалия-норма (без меток): Accelerometer1RMS      0.000020\n",
            "Accelerometer2RMS      0.000719\n",
            "Current               -0.002026\n",
            "Pressure               0.003603\n",
            "Temperature           -0.511941\n",
            "Thermocouple           0.029944\n",
            "Voltage               -0.922127\n",
            "Volume Flow RateRMS   -1.687470\n",
            "changepoint            0.003700\n",
            "dtype: float64\n",
            "LR Silhouette score (без меток): 0.01773198247578626\n"
          ]
        }
      ]
    },
    {
      "cell_type": "markdown",
      "source": [
        "Лучшее значение скора - 1, отсюда видно, что модели справились не очень хорошо. При этом самый ниский скор у логистической регресии, которая лучше всех предсказывает аномалии с точки зрения f1. Это лишь подтверждает, что unsupervised оценки могут работать очень неточно."
      ],
      "metadata": {
        "id": "TJoPH16hi4_o"
      }
    },
    {
      "cell_type": "code",
      "source": [],
      "metadata": {
        "id": "Jl3Gpv75icsN"
      },
      "execution_count": null,
      "outputs": []
    }
  ]
}